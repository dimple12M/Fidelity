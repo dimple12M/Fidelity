{
 "cells": [
  {
   "cell_type": "code",
   "execution_count": 1,
   "metadata": {},
   "outputs": [],
   "source": [
    "import qiskit.quantum_info as qi\n",
    "import numpy as np\n",
    "from qiskit import QuantumCircuit, execute, Aer\n",
    "from qiskit.extensions import XGate\n",
    "from qiskit import *"
   ]
  },
  {
   "cell_type": "markdown",
   "metadata": {},
   "source": [
    "# OPERATOR:\n",
    "    Represenattion of matrix operation which acts on a quantum system"
   ]
  },
  {
   "cell_type": "code",
   "execution_count": 3,
   "metadata": {},
   "outputs": [
    {
     "name": "stdout",
     "output_type": "stream",
     "text": [
      "[[0.+0.j 1.+0.j]\n",
      " [1.+0.j 0.+0.j]]\n"
     ]
    }
   ],
   "source": [
    "# Generate and print operator\n",
    "u = qi.Operator(XGate())\n",
    "print(u.data)"
   ]
  },
  {
   "cell_type": "code",
   "execution_count": 4,
   "metadata": {},
   "outputs": [
    {
     "name": "stdout",
     "output_type": "stream",
     "text": [
      "Operator([[0.        +0.j        , 0.87758256+0.47942554j],\n",
      "          [0.87758256+0.47942554j, 0.        +0.j        ]],\n",
      "         input_dims=(2,), output_dims=(2,))\n"
     ]
    }
   ],
   "source": [
    "u2=np.exp(1j*0.5)*u\n",
    "print(u2)"
   ]
  },
  {
   "cell_type": "markdown",
   "metadata": {},
   "source": [
    "# FIDELITY:\n",
    "    Reference: wikipedia\n",
    "    In quantum mechanics, notably in quantum information theory, fidelity is a measure of \n",
    "    the \"closeness\" of two quantum states.\n",
    "    It expresses the probability that one state will pass a test to identify as the other.\n",
    "\n",
    "Fidelity is the measure between 2 quantum states.\n",
    "Fidelity is 1 if the 2 quantum states are equal"
   ]
  },
  {
   "cell_type": "markdown",
   "metadata": {},
   "source": [
    "# Qiskit References:\n",
    "    Qiskit Terra :Quantum Information ---------->qiskit.quantum_info\n",
    "    State Fidelity: Provides fidelity check between 2 quantum states\n",
    "    Process and Average gate Fidelity : Provides fidelity in the case of a noisy quantum Channel"
   ]
  },
  {
   "cell_type": "code",
   "execution_count": 5,
   "metadata": {},
   "outputs": [
    {
     "name": "stdout",
     "output_type": "stream",
     "text": [
      "Process fidelity = 1.0\n"
     ]
    }
   ],
   "source": [
    "from qiskit.quantum_info.operators import Operator\n",
    "\n",
    "# Two operators which differ only by phase\n",
    "op_a = Operator(XGate())\n",
    "op_b = np.exp(1j * 0.5) * Operator(XGate())\n",
    "\n",
    "# Compute process fidelity\n",
    "F = qi.process_fidelity(op_a, op_b)\n",
    "print('Process fidelity =', F)"
   ]
  },
  {
   "cell_type": "code",
   "execution_count": 6,
   "metadata": {},
   "outputs": [
    {
     "name": "stdout",
     "output_type": "stream",
     "text": [
      "State Fidelity= 1.0\n"
     ]
    }
   ],
   "source": [
    "#Compute State fidelity\n",
    "qiskit.quantum_info.states.Statevector \n",
    "psi_1 = qi.Statevector.from_label('0')\n",
    "psi_2 = qi.Statevector.from_label('0')\n",
    "\n",
    "\n",
    "S1=psi_1.evolve(op_a)\n",
    "S2=psi_2.evolve(op_b)\n",
    "\n",
    "\n",
    "S=qi.state_fidelity(S1,S2)\n",
    "\n",
    "print('State Fidelity=', S)"
   ]
  },
  {
   "cell_type": "code",
   "execution_count": 7,
   "metadata": {},
   "outputs": [
    {
     "name": "stdout",
     "output_type": "stream",
     "text": [
      "Average gate Fidelity 1.0\n"
     ]
    }
   ],
   "source": [
    "#Compute Average Gate Fidelity\n",
    "\n",
    "A=qi.average_gate_fidelity(op_a,op_b)\n",
    "print('Average gate Fidelity', A)"
   ]
  },
  {
   "cell_type": "code",
   "execution_count": null,
   "metadata": {},
   "outputs": [],
   "source": []
  }
 ],
 "metadata": {
  "kernelspec": {
   "display_name": "Python 3",
   "language": "python",
   "name": "python3"
  },
  "language_info": {
   "codemirror_mode": {
    "name": "ipython",
    "version": 3
   },
   "file_extension": ".py",
   "mimetype": "text/x-python",
   "name": "python",
   "nbconvert_exporter": "python",
   "pygments_lexer": "ipython3",
   "version": "3.8.5"
  }
 },
 "nbformat": 4,
 "nbformat_minor": 4
}
